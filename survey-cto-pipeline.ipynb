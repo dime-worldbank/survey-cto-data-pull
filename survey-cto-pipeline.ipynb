{
 "cells": [
  {
   "cell_type": "code",
   "execution_count": 0,
   "metadata": {
    "application/vnd.databricks.v1+cell": {
     "cellMetadata": {
      "byteLimit": 2048000,
      "rowLimit": 10000
     },
     "inputWidgets": {},
     "nuid": "14e7daf8-b32e-464c-870d-fa7644585e94",
     "showTitle": false,
     "tableResultSettingsMap": {},
     "title": ""
    }
   },
   "outputs": [],
   "source": [
    "import importlib\n",
    "import pandas as pd\n",
    "import os\n",
    "import pyspark.sql.functions as F\n",
    "from pyspark.sql.types import StructType, StructField, DoubleType\n",
    "import time\n",
    "from datetime import datetime"
   ]
  },
  {
   "cell_type": "code",
   "execution_count": 0,
   "metadata": {
    "application/vnd.databricks.v1+cell": {
     "cellMetadata": {
      "byteLimit": 2048000,
      "rowLimit": 10000
     },
     "inputWidgets": {},
     "nuid": "65f673a2-5a2d-4ae3-94ff-4956b4bbd8be",
     "showTitle": false,
     "tableResultSettingsMap": {},
     "title": ""
    }
   },
   "outputs": [],
   "source": [
    "%pip install pysurveycto\n",
    "import pysurveycto as pcto"
   ]
  },
  {
   "cell_type": "markdown",
   "metadata": {
    "application/vnd.databricks.v1+cell": {
     "cellMetadata": {},
     "inputWidgets": {},
     "nuid": "a466a7c5-1f0f-4970-84b7-a8c931fd8f14",
     "showTitle": false,
     "tableResultSettingsMap": {},
     "title": ""
    }
   },
   "source": [
    "## Connect to Survey CTO"
   ]
  },
  {
   "cell_type": "code",
   "execution_count": 0,
   "metadata": {
    "application/vnd.databricks.v1+cell": {
     "cellMetadata": {
      "byteLimit": 2048000,
      "rowLimit": 10000
     },
     "inputWidgets": {},
     "nuid": "12b33d05-7945-42ea-80c3-eeaef7e56edb",
     "showTitle": false,
     "tableResultSettingsMap": {},
     "title": ""
    }
   },
   "outputs": [],
   "source": [
    "dbutils.widgets.text(\"SURVEY_CTO_SERVER\", \"\", \"SURVEY_CTO_SERVER\")\n",
    "dbutils.widgets.text(\"SURVEY_CTO_USERNAME\", \"\", \"SURVEY_CTO_USERNAME\")\n",
    "dbutils.widgets.text(\"SURVEY_CTO_PASSWORD\", \"\", \"SURVEY_CTO_PASSWORD\")\n",
    "\n",
    "server_name = dbutils.widgets.get(\"SURVEY_CTO_SERVER\")\n",
    "username = dbutils.widgets.get(\"SURVEY_CTO_USERNAME\")\n",
    "password = dbutils.widgets.get(\"SURVEY_CTO_PASSWORD\")\n",
    "\n",
    "scto = pcto.SurveyCTOObject(server_name, username, password)"
   ]
  },
  {
   "cell_type": "markdown",
   "metadata": {
    "application/vnd.databricks.v1+cell": {
     "cellMetadata": {},
     "inputWidgets": {},
     "nuid": "0498af41-dc8a-49ad-9491-636f136dc1a6",
     "showTitle": false,
     "tableResultSettingsMap": {},
     "title": ""
    }
   },
   "source": [
    "## Get all Form Names"
   ]
  },
  {
   "cell_type": "code",
   "execution_count": 0,
   "metadata": {
    "application/vnd.databricks.v1+cell": {
     "cellMetadata": {
      "byteLimit": 2048000,
      "rowLimit": 10000
     },
     "inputWidgets": {},
     "nuid": "7d155266-c626-4da0-9c2f-f80b87247793",
     "showTitle": false,
     "tableResultSettingsMap": {},
     "title": ""
    }
   },
   "outputs": [],
   "source": [
    "all_forms = scto.list_forms()\n",
    "all_ids = [form['id'] for form in all_forms]\n",
    "time.sleep(301)"
   ]
  },
  {
   "cell_type": "markdown",
   "metadata": {
    "application/vnd.databricks.v1+cell": {
     "cellMetadata": {},
     "inputWidgets": {},
     "nuid": "694a9437-8bc2-40bb-a624-e6b75f1e5566",
     "showTitle": false,
     "tableResultSettingsMap": {},
     "title": ""
    }
   },
   "source": [
    "## Pull & Write All Survey CTO Data"
   ]
  },
  {
   "cell_type": "code",
   "execution_count": 0,
   "metadata": {
    "application/vnd.databricks.v1+cell": {
     "cellMetadata": {},
     "inputWidgets": {},
     "nuid": "af0c61dd-60bd-49a9-92e2-8c06f3de0ae5",
     "showTitle": false,
     "tableResultSettingsMap": {},
     "title": ""
    }
   },
   "outputs": [],
   "source": [
    "# Write to prg_mega\n",
    "def write_to_catalog(TABLE, df):\n",
    "    CATALOG = \"prd_mega\"\n",
    "    SCHEMA = \"ssurve38\"\n",
    "\n",
    "    sdf = spark.createDataFrame(df)\n",
    "    spark.sql(f\"USE {CATALOG}.{SCHEMA}\")\n",
    "    sdf.write.mode(\"overwrite\").option(\"overwriteSchema\", \"true\").saveAsTable(TABLE)\n",
    "\n",
    "    return"
   ]
  },
  {
   "cell_type": "code",
   "execution_count": 0,
   "metadata": {
    "application/vnd.databricks.v1+cell": {
     "cellMetadata": {
      "byteLimit": 2048000,
      "rowLimit": 10000
     },
     "inputWidgets": {},
     "nuid": "1e0c00a0-04c9-4bbb-8d71-9a85baf96625",
     "showTitle": false,
     "tableResultSettingsMap": {},
     "title": ""
    }
   },
   "outputs": [],
   "source": [
    "all_ids"
   ]
  },
  {
   "cell_type": "code",
   "execution_count": 0,
   "metadata": {
    "application/vnd.databricks.v1+cell": {
     "cellMetadata": {
      "byteLimit": 2048000,
      "rowLimit": 10000
     },
     "inputWidgets": {},
     "nuid": "4185eca3-d7c3-47fe-a9c7-5ba5f2329a92",
     "showTitle": false,
     "tableResultSettingsMap": {},
     "title": ""
    }
   },
   "outputs": [],
   "source": [
    "# good_ids = ['dime_stc_application_mar2024'] # testing using a smaller subset of form id's \n",
    "good_ids = []\n",
    "\n",
    "if good_ids == []:\n",
    "    good_ids = all_ids\n",
    "\n",
    "num_pass = 0\n",
    "num_fail = 0\n",
    "\n",
    "for form_id in good_ids:\n",
    "    try:\n",
    "        last_extraction_date = datetime(2004, 1, 1)  \n",
    "        date_param = last_extraction_date.isoformat()\n",
    "        form_json = scto.get_form_data(form_id,format='json', oldest_completion_date=last_extraction_date)\n",
    "        # time.sleep(301)\n",
    "        form_df = pd.DataFrame(form_json)\n",
    "        try:\n",
    "            write_to_catalog(form_id, form_df)\n",
    "            print(form_id, ': PASS')\n",
    "            num_pass += 1\n",
    "        except:\n",
    "            num_fail += 1\n",
    "            print(form_id, ': FAIL (DB Upload)')\n",
    "    except:\n",
    "        num_fail += 1\n",
    "\n",
    "print('num_passed: ',num_pass)\n",
    "print('num_failed: ',num_fail)"
   ]
  }
 ],
 "metadata": {
  "application/vnd.databricks.v1+notebook": {
   "computePreferences": null,
   "dashboards": [],
   "environmentMetadata": {
    "base_environment": "",
    "environment_version": "1"
   },
   "inputWidgetPreferences": null,
   "language": "python",
   "notebookMetadata": {
    "pythonIndentUnit": 4
   },
   "notebookName": "survey-cto-pipeline",
   "widgets": {
    "SURVEY_CTO_PASSWORD": {
     "currentValue": "M@r1@I$Gr3@t",
     "nuid": "b60e4c0a-32d7-4237-bf94-79f67b98d253",
     "typedWidgetInfo": {
      "autoCreated": false,
      "defaultValue": "",
      "label": "SURVEY_CTO_PASSWORD",
      "name": "SURVEY_CTO_PASSWORD",
      "options": {
       "widgetDisplayType": "Text",
       "validationRegex": null
      },
      "parameterDataType": "String"
     },
     "widgetInfo": {
      "widgetType": "text",
      "defaultValue": "",
      "label": "SURVEY_CTO_PASSWORD",
      "name": "SURVEY_CTO_PASSWORD",
      "options": {
       "widgetType": "text",
       "autoCreated": null,
       "validationRegex": null
      }
     }
    },
    "SURVEY_CTO_SERVER": {
     "currentValue": "survey.wb",
     "nuid": "7bda456b-7073-4fe9-8712-c89a4dbdd816",
     "typedWidgetInfo": {
      "autoCreated": false,
      "defaultValue": "",
      "label": "SURVEY_CTO_SERVER",
      "name": "SURVEY_CTO_SERVER",
      "options": {
       "widgetDisplayType": "Text",
       "validationRegex": null
      },
      "parameterDataType": "String"
     },
     "widgetInfo": {
      "widgetType": "text",
      "defaultValue": "",
      "label": "SURVEY_CTO_SERVER",
      "name": "SURVEY_CTO_SERVER",
      "options": {
       "widgetType": "text",
       "autoCreated": null,
       "validationRegex": null
      }
     }
    },
    "SURVEY_CTO_USERNAME": {
     "currentValue": "eric.j.lysenko@gmail.com",
     "nuid": "4de29964-35fe-4fb3-81a9-f435e3366d89",
     "typedWidgetInfo": {
      "autoCreated": false,
      "defaultValue": "",
      "label": "SURVEY_CTO_USERNAME",
      "name": "SURVEY_CTO_USERNAME",
      "options": {
       "widgetDisplayType": "Text",
       "validationRegex": null
      },
      "parameterDataType": "String"
     },
     "widgetInfo": {
      "widgetType": "text",
      "defaultValue": "",
      "label": "SURVEY_CTO_USERNAME",
      "name": "SURVEY_CTO_USERNAME",
      "options": {
       "widgetType": "text",
       "autoCreated": null,
       "validationRegex": null
      }
     }
    }
   }
  },
  "language_info": {
   "name": "python"
  }
 },
 "nbformat": 4,
 "nbformat_minor": 0
}
