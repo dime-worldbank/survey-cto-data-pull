{
 "cells": [
  {
   "cell_type": "code",
   "execution_count": 0,
   "metadata": {
    "application/vnd.databricks.v1+cell": {
     "cellMetadata": {
      "byteLimit": 2048000,
      "rowLimit": 10000
     },
     "inputWidgets": {},
     "nuid": "14e7daf8-b32e-464c-870d-fa7644585e94",
     "showTitle": false,
     "tableResultSettingsMap": {},
     "title": ""
    }
   },
   "outputs": [],
   "source": [
    "import importlib\n",
    "import pandas as pd\n",
    "import os\n",
    "import pyspark.sql.functions as F\n",
    "from pyspark.sql.types import StructType, StructField, DoubleType\n",
    "import time\n",
    "from datetime import datetime\n",
    "from io import StringIO"
   ]
  },
  {
   "cell_type": "code",
   "execution_count": 0,
   "metadata": {
    "application/vnd.databricks.v1+cell": {
     "cellMetadata": {
      "byteLimit": 2048000,
      "rowLimit": 10000
     },
     "inputWidgets": {},
     "nuid": "65f673a2-5a2d-4ae3-94ff-4956b4bbd8be",
     "showTitle": false,
     "tableResultSettingsMap": {},
     "title": ""
    }
   },
   "outputs": [],
   "source": [
    "%pip install pysurveycto\n",
    "import pysurveycto as pcto"
   ]
  },
  {
   "cell_type": "markdown",
   "metadata": {
    "application/vnd.databricks.v1+cell": {
     "cellMetadata": {
      "byteLimit": 2048000,
      "rowLimit": 10000
     },
     "inputWidgets": {},
     "nuid": "a466a7c5-1f0f-4970-84b7-a8c931fd8f14",
     "showTitle": false,
     "tableResultSettingsMap": {},
     "title": ""
    }
   },
   "source": [
    "## Connect to Survey CTO"
   ]
  },
  {
   "cell_type": "code",
   "execution_count": 0,
   "metadata": {
    "application/vnd.databricks.v1+cell": {
     "cellMetadata": {
      "byteLimit": 2048000,
      "rowLimit": 10000
     },
     "inputWidgets": {},
     "nuid": "12b33d05-7945-42ea-80c3-eeaef7e56edb",
     "showTitle": false,
     "tableResultSettingsMap": {},
     "title": ""
    }
   },
   "outputs": [],
   "source": [
    "%pip install pysurveycto\n",
    "import pysurveycto as pcto\n",
    "\n",
    "def connect_survey_cto(): \n",
    "    dbutils.widgets.text(\"SURVEY_CTO_SERVER\", \"\", \"SURVEY_CTO_SERVER\")\n",
    "    dbutils.widgets.text(\"SURVEY_CTO_USERNAME\", \"\", \"SURVEY_CTO_USERNAME\")\n",
    "    dbutils.widgets.text(\"SURVEY_CTO_PASSWORD\", \"\", \"SURVEY_CTO_PASSWORD\")\n",
    "\n",
    "    server_name = dbutils.widgets.get(\"SURVEY_CTO_SERVER\")\n",
    "    username = dbutils.widgets.get(\"SURVEY_CTO_USERNAME\")\n",
    "    password = dbutils.widgets.get(\"SURVEY_CTO_PASSWORD\")\n",
    "\n",
    "    scto = pcto.SurveyCTOObject(server_name, username, password)\n",
    "    return scto"
   ]
  },
  {
   "cell_type": "markdown",
   "metadata": {
    "application/vnd.databricks.v1+cell": {
     "cellMetadata": {
      "byteLimit": 2048000,
      "rowLimit": 10000
     },
     "inputWidgets": {},
     "nuid": "0498af41-dc8a-49ad-9491-636f136dc1a6",
     "showTitle": false,
     "tableResultSettingsMap": {},
     "title": ""
    }
   },
   "source": [
    "## Get all Form Names"
   ]
  },
  {
   "cell_type": "code",
   "execution_count": 0,
   "metadata": {
    "application/vnd.databricks.v1+cell": {
     "cellMetadata": {
      "byteLimit": 2048000,
      "rowLimit": 10000
     },
     "inputWidgets": {},
     "nuid": "7d155266-c626-4da0-9c2f-f80b87247793",
     "showTitle": false,
     "tableResultSettingsMap": {},
     "title": ""
    }
   },
   "outputs": [],
   "source": [
    "scto = connect_survey_cto()\n",
    "all_forms = scto.list_forms()\n",
    "all_ids = [form['id'] for form in all_forms]"
   ]
  },
  {
   "cell_type": "code",
   "execution_count": 0,
   "metadata": {
    "application/vnd.databricks.v1+cell": {
     "cellMetadata": {
      "byteLimit": 2048000,
      "rowLimit": 10000
     },
     "inputWidgets": {},
     "nuid": "4ff0b51f-e5e1-4b84-bc7c-d7d1f02bd85a",
     "showTitle": false,
     "tableResultSettingsMap": {},
     "title": ""
    }
   },
   "outputs": [],
   "source": [
    "all_forms"
   ]
  },
  {
   "cell_type": "code",
   "execution_count": 0,
   "metadata": {
    "application/vnd.databricks.v1+cell": {
     "cellMetadata": {
      "byteLimit": 2048000,
      "rowLimit": 10000
     },
     "inputWidgets": {},
     "nuid": "f8287bbe-1946-4149-b197-a21188d966a0",
     "showTitle": false,
     "tableResultSettingsMap": {},
     "title": ""
    }
   },
   "outputs": [],
   "source": [
    "all_ids"
   ]
  },
  {
   "cell_type": "markdown",
   "metadata": {
    "application/vnd.databricks.v1+cell": {
     "cellMetadata": {
      "byteLimit": 2048000,
      "rowLimit": 10000
     },
     "inputWidgets": {},
     "nuid": "694a9437-8bc2-40bb-a624-e6b75f1e5566",
     "showTitle": false,
     "tableResultSettingsMap": {},
     "title": ""
    }
   },
   "source": [
    "## Pull & Write All Survey CTO Data"
   ]
  },
  {
   "cell_type": "code",
   "execution_count": 0,
   "metadata": {
    "application/vnd.databricks.v1+cell": {
     "cellMetadata": {
      "byteLimit": 2048000,
      "rowLimit": 10000
     },
     "inputWidgets": {},
     "nuid": "af0c61dd-60bd-49a9-92e2-8c06f3de0ae5",
     "showTitle": false,
     "tableResultSettingsMap": {},
     "title": ""
    }
   },
   "outputs": [],
   "source": [
    "# Write to prg_mega\n",
    "scto = connect_survey_cto()\n",
    "def table_to_catalog(TABLE, df):\n",
    "    CATALOG = \"prd_mega\"\n",
    "    SCHEMA = \"ssurve38\"\n",
    "\n",
    "    sdf = spark.createDataFrame(df)\n",
    "    spark.sql(f\"USE {CATALOG}.{SCHEMA}\")\n",
    "    sdf.write.mode(\"overwrite\").option(\"overwriteSchema\", \"true\").saveAsTable(TABLE)\n",
    "\n",
    "    return\n",
    "\n",
    "def attachments_to_catalog(form_id, attachments):\n",
    "    CATALOG = 'prd_mega'\n",
    "    SCHEMA  = 'ssurve38'\n",
    "    VOLUME  = 'vsurve38'\n",
    "\n",
    "    for uuid, fields in attachments.items():\n",
    "        uuid_clean = uuid.split(':')[-1]\n",
    "        base_path = f'/Volumes/{CATALOG}/{SCHEMA}/{VOLUME}'\n",
    "        survey_path = os.path.join(base_path, 'Surveys')\n",
    "        form_path = os.path.join(survey_path, form_id)\n",
    "        uuid_path = os.path.join(form_path, uuid)\n",
    "        attach_path = os.path.join(uuid_path, 'Attachments')\n",
    "        \n",
    "\n",
    "        if not os.path.exists(base_path):\n",
    "            os.mkdir(base_path)\n",
    "        if not os.path.exists(survey_path):\n",
    "            os.mkdir(survey_path)\n",
    "        if not os.path.exists(form_path):\n",
    "            os.mkdir(form_path)\n",
    "        if not os.path.exists(uuid_path):\n",
    "            os.mkdir(uuid_path)\n",
    "        if not os.path.exists(attach_path):\n",
    "            os.mkdir(attach_path)\n",
    "\n",
    "        for field, url in fields.items():\n",
    "            field_path = os.path.join(attach_path, field)\n",
    "            if not os.path.exists(field_path):\n",
    "                os.mkdir(field_path)\n",
    "            \n",
    "            upload_path = os.path.join(field_path, url.split('/')[-1])\n",
    "\n",
    "            attachment = scto.get_attachment(url)\n",
    "            with open(upload_path, \"wb\") as f:\n",
    "                f.write(attachment)\n",
    "\n",
    "def get_form_data(form_id, format='json', oldest_completion_date=datetime(2004, 1, 1)):\n",
    "    form_data = scto.get_form_data(form_id, format=format, oldest_completion_date=oldest_completion_date)\n",
    "    \n",
    "    return form_data\n",
    "\n",
    "def get_dataset_data(dataset_id, format='json'):\n",
    "    dataset_data = scto.get_server_dataset(dataset_id=dataset_id)\n",
    "\n",
    "    return dataset_data\n",
    "\n",
    "def get_attachment_urls(form_data):\n",
    "    attachment_urls = {}\n",
    "\n",
    "    for record in form_data:\n",
    "        uuid = record['instanceID']\n",
    "        attachment_base_url = f'https://{server_name}.surveycto.com/api/v2/forms/{form_id}/submissions/{uuid}/'\n",
    "        for field, value in record.items():\n",
    "            if attachment_base_url in value:\n",
    "                if not uuid in attachment_urls.keys():\n",
    "                    attachment_urls[uuid] = {}\n",
    "                attachment_urls[uuid][field] = value\n",
    "\n",
    "    return attachment_urls\n",
    "\n",
    "def write_data(_id, df, attach_urls={}, num_pass=0, num_fail=0):\n",
    "    try:\n",
    "        table_to_catalog(_id, df)\n",
    "        if len(attach_urls) > 0:\n",
    "            attachments_to_catalog(_id, attachment_urls)\n",
    "        print(_id, ': PASS')\n",
    "        num_pass += 1\n",
    "    except:\n",
    "        num_fail += 1\n",
    "        print(_id, ': FAIL (DB Upload)')\n",
    "    \n",
    "    return num_pass, num_fail"
   ]
  },
  {
   "cell_type": "code",
   "execution_count": 0,
   "metadata": {
    "application/vnd.databricks.v1+cell": {
     "cellMetadata": {
      "byteLimit": 2048000,
      "rowLimit": 10000
     },
     "inputWidgets": {},
     "nuid": "fd45fe7e-5dc6-4aa9-aa75-a32f27b30093",
     "showTitle": false,
     "tableResultSettingsMap": {},
     "title": ""
    }
   },
   "outputs": [],
   "source": [
    "dataset_ids = ['dg_regio_ma_policy_survey_dataset']\n",
    "num_pass = 0\n",
    "num_fail = 0\n",
    "\n",
    "line_breaks = '\\n'\n",
    "for dataset_id in dataset_ids:\n",
    "    \n",
    "    dataset_data = scto.get_server_dataset(dataset_id=dataset_id, line_breaks=line_breaks)\n",
    "    csv_io = StringIO(dataset_data.strip())\n",
    "    df = pd.read_csv(csv_io)\n",
    "\n",
    "    num_pass, num_fail = write_data(dataset_id, df, num_pass=num_pass, num_fail=num_fail)\n",
    "\n",
    "df"
   ]
  },
  {
   "cell_type": "code",
   "execution_count": 0,
   "metadata": {
    "application/vnd.databricks.v1+cell": {
     "cellMetadata": {
      "byteLimit": 2048000,
      "rowLimit": 10000
     },
     "inputWidgets": {},
     "nuid": "7366eedb-9cbf-40ff-990c-907ba1686a17",
     "showTitle": false,
     "tableResultSettingsMap": {},
     "title": ""
    }
   },
   "outputs": [],
   "source": [
    "import pandas as pd\n",
    "from io import StringIO\n",
    "\n",
    "# Remove any leading/trailing whitespace and load as a file-like object\n",
    "\n",
    "# Show first few rows\n",
    "print(df.head())\n"
   ]
  },
  {
   "cell_type": "code",
   "execution_count": 0,
   "metadata": {
    "application/vnd.databricks.v1+cell": {
     "cellMetadata": {
      "byteLimit": 2048000,
      "rowLimit": 10000
     },
     "inputWidgets": {},
     "nuid": "4185eca3-d7c3-47fe-a9c7-5ba5f2329a92",
     "showTitle": false,
     "tableResultSettingsMap": {},
     "title": ""
    }
   },
   "outputs": [],
   "source": [
    "# good_ids = ['dime_stc_application_mar2024'] # testing using a smaller subset of form id's \n",
    "good_ids = []\n",
    "\n",
    "if good_ids == []:\n",
    "    good_ids = all_ids\n",
    "\n",
    "for form_id in good_ids:\n",
    "    try:\n",
    "        form_data = get_form_data(form_id)\n",
    "        attachment_urls = get_attachment_urls(form_data)\n",
    "        form_df = pd.DataFrame(form_data)\n",
    "        num_pass, num_fail = write_data(form_id, form_df, attachment_urls, num_pass, num_fail)\n",
    "    except:\n",
    "        num_fail += 1\n",
    "\n",
    "print('num_passed: ',num_pass)\n",
    "print('num_failed: ',num_fail)"
   ]
  }
 ],
 "metadata": {
  "application/vnd.databricks.v1+notebook": {
   "computePreferences": null,
   "dashboards": [],
   "environmentMetadata": {
    "base_environment": "",
    "environment_version": "1"
   },
   "inputWidgetPreferences": null,
   "language": "python",
   "notebookMetadata": {
    "pythonIndentUnit": 4
   },
   "notebookName": "survey-cto-pipeline",
   "widgets": {
    "SURVEY_CTO_PASSWORD": {
     "currentValue": "peshax-hakGem-gexzo1",
     "nuid": "9b7f5908-801a-4b36-a5ac-e3939e38a8f0",
     "typedWidgetInfo": {
      "autoCreated": false,
      "defaultValue": "",
      "label": "SURVEY_CTO_PASSWORD",
      "name": "SURVEY_CTO_PASSWORD",
      "options": {
       "widgetDisplayType": "Text",
       "validationRegex": null
      },
      "parameterDataType": "String"
     },
     "widgetInfo": {
      "widgetType": "text",
      "defaultValue": "",
      "label": "SURVEY_CTO_PASSWORD",
      "name": "SURVEY_CTO_PASSWORD",
      "options": {
       "widgetType": "text",
       "autoCreated": null,
       "validationRegex": null
      }
     }
    },
    "SURVEY_CTO_SERVER": {
     "currentValue": "survey.wb",
     "nuid": "a99793a4-5e4f-43ca-bb46-66362936accf",
     "typedWidgetInfo": {
      "autoCreated": false,
      "defaultValue": "",
      "label": "SURVEY_CTO_SERVER",
      "name": "SURVEY_CTO_SERVER",
      "options": {
       "widgetDisplayType": "Text",
       "validationRegex": null
      },
      "parameterDataType": "String"
     },
     "widgetInfo": {
      "widgetType": "text",
      "defaultValue": "",
      "label": "SURVEY_CTO_SERVER",
      "name": "SURVEY_CTO_SERVER",
      "options": {
       "widgetType": "text",
       "autoCreated": null,
       "validationRegex": null
      }
     }
    },
    "SURVEY_CTO_USERNAME": {
     "currentValue": "eric.j.lysenko@gmail.com",
     "nuid": "18200221-6995-451e-849c-f9effb632596",
     "typedWidgetInfo": {
      "autoCreated": false,
      "defaultValue": "",
      "label": "SURVEY_CTO_USERNAME",
      "name": "SURVEY_CTO_USERNAME",
      "options": {
       "widgetDisplayType": "Text",
       "validationRegex": null
      },
      "parameterDataType": "String"
     },
     "widgetInfo": {
      "widgetType": "text",
      "defaultValue": "",
      "label": "SURVEY_CTO_USERNAME",
      "name": "SURVEY_CTO_USERNAME",
      "options": {
       "widgetType": "text",
       "autoCreated": null,
       "validationRegex": null
      }
     }
    }
   }
  },
  "language_info": {
   "name": "python"
  }
 },
 "nbformat": 4,
 "nbformat_minor": 0
}
